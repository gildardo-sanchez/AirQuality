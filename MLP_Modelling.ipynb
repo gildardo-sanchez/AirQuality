{
 "cells": [
  {
   "cell_type": "markdown",
   "id": "31ccaedd",
   "metadata": {},
   "source": [
    "# Training a MLP\n",
    "\n",
    "In this example, we are going to create, train and score a Regressor that uses a MLP\n",
    "\n",
    "Dataset Information:\n",
    "\n",
    "The dataset contains 9358 instances of hourly averaged responses from an array of 5 metal oxide chemical sensors embedded in an Air Quality Chemical Multisensor Device. The device was located on the field in a significantly polluted area, at road level,within an Italian city. Data were recorded from March 2004 to February 2005 (one year)representing the longest freely available recordings of on field deployed air quality chemical sensor devices responses. Ground Truth hourly averaged concentrations for CO, Non Metanic Hydrocarbons, Benzene, Total Nitrogen Oxides (NOx) and Nitrogen Dioxide (NO2) and were provided by a co-located reference certified analyzer. Evidences of cross-sensitivities as well as both concept and sensor drifts are present as described in De Vito et al., Sens. And Act. B, Vol. 129,2,2008 (citation required) eventually affecting sensors concentration estimation capabilities. Missing values are tagged with -200 value. \n"
   ]
  },
  {
   "cell_type": "code",
   "execution_count": 1,
   "id": "ac11dce2",
   "metadata": {},
   "outputs": [],
   "source": [
    "# import some libraries\n",
    "import pandas as pd\n",
    "import numpy as np"
   ]
  },
  {
   "cell_type": "markdown",
   "id": "da44dd4a",
   "metadata": {},
   "source": [
    "Import dataset, separate attribute columns from output"
   ]
  },
  {
   "cell_type": "code",
   "execution_count": 2,
   "id": "5fec9f69",
   "metadata": {},
   "outputs": [
    {
     "name": "stdout",
     "output_type": "stream",
     "text": [
      "       CO\n",
      "0     2.9\n",
      "1     4.8\n",
      "2     6.9\n",
      "3     6.1\n",
      "4     3.9\n",
      "...   ...\n",
      "7389  2.7\n",
      "7390  2.5\n",
      "7391  1.5\n",
      "7392  1.6\n",
      "7393  1.2\n",
      "\n",
      "[7394 rows x 1 columns]\n",
      "      PT08.S1  PT08.S2  PT08.S3  PT08.S4  PT08.S5     T    RH      AH\n",
      "0        1383     1020     1008     1719     1104   9.8  67.6  0.8185\n",
      "1        1581     1319      799     2083     1409  10.3  64.2  0.8065\n",
      "2        1776     1488      702     2333     1704   9.7  69.3  0.8319\n",
      "3        1640     1404      743     2191     1654   9.6  67.8  0.8133\n",
      "4        1313     1076      957     1707     1285   9.1  64.0  0.7419\n",
      "...       ...      ...      ...      ...      ...   ...   ...     ...\n",
      "7389     1248     1018      599     1289     1167  19.9  33.0  0.7608\n",
      "7390     1180      894      636     1200     1372  17.5  40.7  0.8073\n",
      "7391     1102      812      693     1178     1042  16.4  46.6  0.8642\n",
      "7392     1116      803      696     1173     1055  15.5  49.0  0.8579\n",
      "7393     1100      769      722     1147     1049  14.3  52.5  0.8497\n",
      "\n",
      "[7394 rows x 8 columns]\n"
     ]
    }
   ],
   "source": [
    "# Load data. The original dataset includes names in first row\n",
    "dataset = pd.read_csv(\"AirQuality_clean2.csv\")\n",
    "\n",
    "# Separate the class from the attributes\n",
    "target = pd.DataFrame(dataset, columns= ['CO'])\n",
    "\n",
    "print (target)\n",
    "\n",
    "attributes= dataset.loc[ : , dataset.columns != 'CO']\n",
    "print(attributes)"
   ]
  },
  {
   "cell_type": "markdown",
   "id": "fcdd9242",
   "metadata": {},
   "source": [
    "# Split dataset"
   ]
  },
  {
   "cell_type": "code",
   "execution_count": 3,
   "id": "c426d1ce",
   "metadata": {},
   "outputs": [],
   "source": [
    "#Splitting the dataset into  training and validation sets\n",
    "from sklearn.model_selection import train_test_split\n",
    "X_train,X_test,y_train,y_test= train_test_split(\n",
    "    attributes,target,test_size=0.33, random_state=50)\n",
    "\n",
    "#print(X_train.shape, X_test.shape, y_train.shape, y_test.shape)"
   ]
  },
  {
   "cell_type": "markdown",
   "id": "cbb20ce6",
   "metadata": {},
   "source": [
    "# Train (fit) an MLP\n",
    "Train an MLP as a regression model. In this case, we will make a three layers model. First with 100 neurons, second with 50 and last with 10. Relu activation, and Solver Adam\n",
    "Once the model is trained, we ask it to predict values and store them on y_pred"
   ]
  },
  {
   "cell_type": "code",
   "execution_count": 4,
   "id": "3afe57f1",
   "metadata": {},
   "outputs": [],
   "source": [
    "# Train one model with raw data to establish a reference.\n",
    "# In this case, we will train a MLP\n",
    "from sklearn.neural_network import MLPRegressor\n",
    "\n",
    "#Initializing the MLPRegressor\n",
    "regr = MLPRegressor(hidden_layer_sizes=(100,50,10), max_iter=1000,\n",
    "                           activation = 'relu',solver='adam',random_state=1)\n",
    "\n",
    "#Fitting the training data to the network\n",
    "regr.fit(X_train, y_train.values.ravel())\n",
    "\n",
    "#Predicting y for X_val\n",
    "y_pred = regr.predict(X_test)"
   ]
  },
  {
   "cell_type": "markdown",
   "id": "6afc1735",
   "metadata": {},
   "source": [
    "# Compute accuracy. \n",
    "The score by default is r^2.\n",
    "\n",
    "R^2(coefficient of determination) regression score function.\n",
    "\n",
    "Best possible score is 1.0 and it can be negative (because the model can be arbitrarily worse). A constant model that always predicts the expected value of y, disregarding the input features, would get a \n",
    "R^2 score of 0.0."
   ]
  },
  {
   "cell_type": "code",
   "execution_count": 5,
   "id": "ab71f733",
   "metadata": {},
   "outputs": [
    {
     "data": {
      "text/plain": [
       "0.6901872795820116"
      ]
     },
     "execution_count": 5,
     "metadata": {},
     "output_type": "execute_result"
    }
   ],
   "source": [
    "regr.score(X_test, y_test)"
   ]
  },
  {
   "cell_type": "markdown",
   "id": "70d2f638-d6ea-4a8f-97bf-9eebe8a7931e",
   "metadata": {},
   "source": [
    "Now, use a Linear regression model, as a reference"
   ]
  },
  {
   "cell_type": "code",
   "execution_count": 6,
   "id": "8cc74428-4152-41c8-ab09-943cbf918a7e",
   "metadata": {},
   "outputs": [],
   "source": [
    "from sklearn.linear_model import LinearRegression\n",
    "\n",
    "model = LinearRegression() \n",
    "\n",
    "model.fit(X_train, y_train)\n",
    "\n",
    "# Predicting y for X_val\n",
    "y_pred2= model.predict(X_test)\n"
   ]
  },
  {
   "cell_type": "code",
   "execution_count": 7,
   "id": "09d9da3f-b12b-40f5-8af7-7c681d1aacc1",
   "metadata": {},
   "outputs": [
    {
     "name": "stdout",
     "output_type": "stream",
     "text": [
      "Mean Absolute Error: 0.5829636749174325\n",
      "Mean Squared Error: 0.6222955610749216\n",
      "Root Mean Squared Error: 0.7888571233594341\n"
     ]
    }
   ],
   "source": [
    "from sklearn import metrics\n",
    "print('Mean Absolute Error:', metrics.mean_absolute_error(y_test, y_pred))\n",
    "print('Mean Squared Error:', metrics.mean_squared_error(y_test, y_pred))\n",
    "print('Root Mean Squared Error:', np.sqrt(metrics.mean_squared_error(y_test, y_pred)))"
   ]
  },
  {
   "cell_type": "markdown",
   "id": "b6765c23-ab91-4d30-83e1-833e1576ddcb",
   "metadata": {},
   "source": [
    "# Cross validation\n",
    "\n"
   ]
  },
  {
   "cell_type": "code",
   "execution_count": 12,
   "id": "cf6f47c7-e66e-4923-850a-df5fa251378f",
   "metadata": {},
   "outputs": [
    {
     "data": {
      "text/plain": [
       "array([0.88950971, 0.90492653, 0.89080027, 0.87182823, 0.88613316])"
      ]
     },
     "execution_count": 12,
     "metadata": {},
     "output_type": "execute_result"
    }
   ],
   "source": [
    "from sklearn.model_selection import cross_val_score\n",
    "from sklearn.model_selection import KFold\n",
    "\n",
    "# k-fold CV (using all the 13 variables)\n",
    "lm = LinearRegression()\n",
    "scores = cross_val_score(lm, X_train, y_train, scoring='r2', cv=5)\n",
    "scores     "
   ]
  },
  {
   "cell_type": "code",
   "execution_count": null,
   "id": "41a36350-9f5d-4d39-8e1f-2ea6587fe1ac",
   "metadata": {},
   "outputs": [],
   "source": []
  }
 ],
 "metadata": {
  "kernelspec": {
   "display_name": "Python 3 (ipykernel)",
   "language": "python",
   "name": "python3"
  },
  "language_info": {
   "codemirror_mode": {
    "name": "ipython",
    "version": 3
   },
   "file_extension": ".py",
   "mimetype": "text/x-python",
   "name": "python",
   "nbconvert_exporter": "python",
   "pygments_lexer": "ipython3",
   "version": "3.8.11"
  }
 },
 "nbformat": 4,
 "nbformat_minor": 5
}
